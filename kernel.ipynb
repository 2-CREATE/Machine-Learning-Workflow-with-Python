{
 "cells": [
  {
   "cell_type": "markdown",
   "metadata": {
    "_uuid": "a8f9622945156d6337ba73c481da2de7efef7384"
   },
   "source": [
    "## A Comprehensive Machine Learning Workflow with Python\n",
    "There are plenty of courses and tutorials that can help you learn machine learning from scratch but here in Kaggle, I want to solve a simple machine learning problem as a comprehensive workflow with python packages.Then \n",
    "\n",
    "After reading, you can use this workflow to solve other real problems and use it as a template to deal with machine learning problems.\n",
    "\n",
    "you can follow me on:\n",
    "> ###### [ GitHub](https://github.com/mjbahmani)\n",
    "> ###### [LinkedIn](https://www.linkedin.com/in/bahmani/)\n",
    "> ###### [Kaggle](https://www.kaggle.com/mjbahmani/)\n",
    "\n",
    "\n",
    " **I hope you find this kernel helpful and some upvotes would be very much appreciated**"
   ]
  },
  {
   "cell_type": "markdown",
   "metadata": {
    "_uuid": "cda11210a88d6484112cbe2c3624225328326c6a"
   },
   "source": [
    "## Notebook  Content\n",
    "*   1- Introduction\n",
    "*   2- Machine learning workflow\n",
    "*   3- Problem Definition\n",
    "*       3-1 Problem feature\n",
    "*       3-2 Aim\n",
    "*       3-3 Variables\n",
    "*   4- Inputs & Outputs\n",
    "*   4-1 Inputs \n",
    "*   4-2 Outputs\n",
    "*   5- Installation\n",
    "*       5-1 jupyter notebook\n",
    "*       5-2 kaggle kernel\n",
    "*       5-3 Colab notebook\n",
    "*       5-4 install python & packages\n",
    "*       5-5 Loading Packages\n",
    "*   6- Exploratory data analysis\n",
    "*       6-1 Data Collection\n",
    "*       6-2 Visualization\n",
    "*           6-2-1 Scatter plot\n",
    "*           6-2-2 Box\n",
    "*           6-2-3 Histogram\n",
    "*           6-2-4 Multivariate Plots\n",
    "*           6-2-5 Violinplots\n",
    "*           6-2-6 Pair plot\n",
    "*           6-2-7 Kde plot\n",
    "*           6-2-8 Joint plot\n",
    "*           6-2-9 Andrews curves\n",
    "*           6-2-10 Heatmap\n",
    "*           6-2-11 Radviz\n",
    "*       6-3 Data Preprocessing\n",
    "*       6-4 Data Cleaning\n",
    "*   7- Model Deployment\n",
    "*       7-1 KNN\n",
    "*       7-2 Radius Neighbors Classifier\n",
    "*       7-3 Logistic Regression\n",
    "*       7-4 Passive Aggressive Classifier\n",
    "*       7-5 Naive Bayes\n",
    "*       7-6 MultinomialNB\n",
    "*       7-7 BernoulliNB\n",
    "*       7-8 SVM\n",
    "*       7-9 Nu-Support Vector Classification\n",
    "*       7-10Linear Support Vector Classification\n",
    "*       7-11 Decision Tree\n",
    "*       7-12 ExtraTreeClassifier\n",
    "*       7-13 Neural network\n",
    "*       7-14 RandomForest\n",
    "*       7-15 Bagging classifier \n",
    "*       7-16 AdaBoost classifier\n",
    "*       7-17 Gradient Boosting Classifier\n",
    "*       7-18 Linear Discriminant Analysis\n",
    "*       7-19 Quadratic Discriminant Analysis\n",
    "*       7-20 Kmeans\n",
    "*   8- Conclusion\n",
    "*  9- References"
   ]
  },
  {
   "cell_type": "markdown",
   "metadata": {
    "_uuid": "750903cc2679d39058f56df6c6c040be02b748df"
   },
   "source": [
    "## 1- Introduction\n",
    "This is a **comprehensive ML techniques for IRIS** data set, that I have spent for more than two months to complete it.\n",
    "\n",
    "it is clear that everyone in this community is familiar with IRIS dataset but if you need to review your information about the dataset please visit this [link](https://archive.ics.uci.edu/ml/datasets/iris).\n",
    "\n",
    "I have tried to help **beginners**  in Kaggle how to face machine learning problems. and I think it is a great opportunity for who want to learn machine learning workflow with python completely.\n",
    "I have covered most of the methods that are implemented for iris until **2018**, you can start to learn and review your knowledge about ML with a simple dataset and try to learn and memorize the workflow for your journey in Data science world.\n",
    "\n",
    "I am open to getting your feedback for improving this **kernel**\n"
   ]
  },
  {
   "cell_type": "markdown",
   "metadata": {
    "_uuid": "e11b73b618b0f6e4335520ef80267c6d577d1ba5"
   },
   "source": [
    "## 2- Machine Learning Workflow\n",
    "If you have already read some [machine learning books](https://towardsdatascience.com/list-of-free-must-read-machine-learning-books-89576749d2ff). You have noticed that there are different ways to stream data into machine learning.\n",
    "\n",
    "most of these books share the following steps:\n",
    "*   Define Problem\n",
    "*   Specify Inputs & Outputs\n",
    "*   Exploratory data analysis\n",
    "*   Data Collection\n",
    "*   Data Preprocessing\n",
    "*   Data Cleaning\n",
    "*   Visualization\n",
    "*   Model Design, Training, and Offline Evaluation\n",
    "*   Model Deployment, Online Evaluation, and Monitoring\n",
    "*   Model Maintenance, Diagnosis, and Retraining\n",
    "\n",
    "**You can see my workflow in the below image** :\n",
    " <img src=\"http://s9.picofile.com/file/8338227634/workflow.png\" />\n",
    "\n"
   ]
  },
  {
   "cell_type": "markdown",
   "metadata": {
    "_uuid": "600be852c0d28e7c0c5ebb718904ab15a536342c"
   },
   "source": [
    "## 3- Problem Definition\n",
    "I think one of the important things when you start a new machine learning project is Defining your problem.\n",
    "\n",
    "Problem Definition has four steps that have illustrated in the picture below:\n",
    "<img src=\"http://s8.picofile.com/file/8338227734/ProblemDefination.png\">\n",
    "### 3-1 Problem Feature\n",
    "we will use the classic Iris data set. This dataset contains information about three different types of Iris flowers:\n",
    "\n",
    "* Iris Versicolor\n",
    "* Iris Virginica\n",
    "* Iris Setosa\n",
    "\n",
    "The data set contains measurements of four variables :\n",
    "\n",
    "* sepal length \n",
    "* sepal width\n",
    "* petal length \n",
    "* petal width\n",
    " \n",
    "The Iris data set has a number of interesting features:\n",
    "\n",
    "1. One of the classes (Iris Setosa) is linearly separable from the other two. However, the other two classes are not linearly separable.\n",
    "\n",
    "2. There is some overlap between the Versicolor and Virginica classes, so it is unlikely to achieve a perfect classification rate.\n",
    "\n",
    "3. There is some redundancy in the four input variables, so it is possible to achieve a good solution with only three of them, or even (with difficulty) from two, but the precise choice of best variables is not obvious.\n",
    "\n",
    "**Why am I  using iris dataset:**\n",
    "\n",
    "1- This is a good project because it is so well understood.\n",
    "\n",
    "2- Attributes are numeric so you have to figure out how to load and handle data.\n",
    "\n",
    "3- It is a classification problem, allowing you to practice with perhaps an easier type of supervised learning algorithm.\n",
    "\n",
    "4- It is a multi-class classification problem (multi-nominal) that may require some specialized handling.\n",
    "\n",
    "5- It only has 4 attributes and 150 rows, meaning it is small and easily fits into memory (and a screen or A4 page).\n",
    "\n",
    "6- All of the numeric attributes are in the same units and the same scale, not requiring any special scaling or transforms to get started.[5]\n",
    "\n",
    "7- we can define problem as clustering(unsupervised algorithm) project too.\n",
    "### 3-2 Aim\n",
    "The aim is to classify iris flowers among three species (setosa, versicolor or virginica) from measurements of length and width of sepals and petals\n",
    "### 3-3 Variables\n",
    "The variables are :\n",
    "**sepal_length**: Sepal length, in centimeters, used as input.\n",
    "**sepal_width**: Sepal width, in centimeters, used as input.\n",
    "**petal_length**: Petal length, in centimeters, used as input.\n",
    "**petal_width**: Petal width, in centimeters, used as input.\n",
    "**setosa**: Iris setosa, true or false, used as target.\n",
    "**versicolour**: Iris versicolour, true or false, used as target.\n",
    "**virginica**: Iris virginica, true or false, used as target."
   ]
  },
  {
   "cell_type": "markdown",
   "metadata": {
    "_uuid": "8bb4dfebb521f83543e1d45db3559216dad8f6fb"
   },
   "source": [
    "## 4- Inputs & Outputs\n",
    "### 4-1 Inputs\n",
    "**Iris** is a very popular **classification** and **clustering** problem in machine learning and it is such as \"Hello world\" program when you start learning a new programming language. then I decided to apply Iris on  20 machine learning method on it.\n",
    "The Iris flower data set or Fisher's Iris data set is a **multivariate data set** introduced by the British statistician and biologist Ronald Fisher in his 1936 paper The use of multiple measurements in taxonomic problems as an example of linear discriminant analysis. It is sometimes called Anderson's Iris data set because Edgar Anderson collected the data to quantify the morphologic variation of Iris flowers in three related species. Two of the three species were collected in the Gaspé Peninsula \"all from the same pasture, and picked on the same day and measured at the same time by the same person with the same apparatus\".\n",
    "The data set consists of 50 samples from each of three species of Iris (Iris setosa, Iris virginica, and Iris versicolor). Four features were measured from each sample: the length and the width of the sepals and petals, in centimeters. Based on the combination of these four features, Fisher developed a linear discriminant model to distinguish the species from each other.\n",
    "\n",
    "As a result, **iris dataset is used as the input of all algorithms**.\n",
    "![iris](https://image.ibb.co/gbH3ue/iris.png)\n",
    "[image source](https://rpubs.com/wjholst/322258)\n",
    "### 4-2 Outputs\n",
    "the outputs for our algorithms totally depend on the type of classification or clustering algorithms.\n",
    "the outputs can be the number of clusters or predict for new input.\n",
    "\n",
    "**setosa**: Iris setosa, true or false, used as target.\n",
    "**versicolour**: Iris versicolour, true or false, used as target.\n",
    "**virginica**: Iris virginica, true or false, used as a target."
   ]
  },
  {
   "cell_type": "markdown",
   "metadata": {
    "_uuid": "89ee0cda57822cd4102eadf8992c5bfe1964d557"
   },
   "source": [
    "## 5-Installation\n",
    "#### Windows:\n",
    "* Anaconda (from https://www.continuum.io) is a free Python distribution for SciPy stack. It is also available for Linux and Mac.\n",
    "* Canopy (https://www.enthought.com/products/canopy/) is available as free as well as commercial distribution with full SciPy stack for Windows, Linux and Mac.\n",
    "* Python (x,y) is a free Python distribution with SciPy stack and Spyder IDE for Windows OS. (Downloadable from http://python-xy.github.io/)\n",
    "#### Linux\n",
    "Package managers of respective Linux distributions are used to install one or more packages in SciPy stack.\n",
    "\n",
    "For Ubuntu Users:\n",
    "sudo apt-get install python-numpy python-scipy python-matplotlibipythonipythonnotebook\n",
    "python-pandas python-sympy python-nose"
   ]
  },
  {
   "cell_type": "markdown",
   "metadata": {
    "_uuid": "c1793fb141d3338bbc4300874be6ffa5cb1a9139"
   },
   "source": [
    "## 5-1 Jupyter notebook\n",
    "I strongly recommend installing **Python** and **Jupyter** using the **[Anaconda Distribution](https://www.anaconda.com/download/)**, which includes Python, the Jupyter Notebook, and other commonly used packages for scientific computing and data science.\n",
    "\n",
    "First, download Anaconda. We recommend downloading Anaconda’s latest Python 3 version.\n",
    "\n",
    "Second, install the version of Anaconda which you downloaded, following the instructions on the download page.\n",
    "\n",
    "Congratulations, you have installed Jupyter Notebook! To run the notebook, run the following command at the Terminal (Mac/Linux) or Command Prompt (Windows):"
   ]
  },
  {
   "cell_type": "markdown",
   "metadata": {
    "_uuid": "abbd1757dde9805758a2cec47a186e31dbc29822"
   },
   "source": [
    "> jupyter notebook\n",
    "> "
   ]
  },
  {
   "cell_type": "markdown",
   "metadata": {
    "_uuid": "8a70c253d5afa93f07a7a7e048dbb2d7812c8d10"
   },
   "source": [
    "## 5-2 Kaggle Kernel\n",
    "Kaggle kernel is an environment just like you use jupyter notebook, it's an **extension** of the where in you are able to carry out all the functions of jupyter notebooks plus it has some added tools like forking et al."
   ]
  },
  {
   "cell_type": "markdown",
   "metadata": {
    "_uuid": "237bbe4e4509c9491ce165e3599c432b979d7b90"
   },
   "source": [
    "## 5-3 Colab notebook\n",
    "**Colaboratory** is a research tool for machine learning education and research. It’s a Jupyter notebook environment that requires no setup to use.\n",
    "### 5-3-1 What browsers are supported?\n",
    "Colaboratory works with most major browsers, and is most thoroughly tested with desktop versions of Chrome and Firefox.\n",
    "### 5-3-2 Is it free to use?\n",
    "Yes. Colaboratory is a research project that is free to use.\n",
    "### 5-3-3 What is the difference between Jupyter and Colaboratory?\n",
    "Jupyter is the open source project on which Colaboratory is based. Colaboratory allows you to use and share Jupyter notebooks with others without having to download, install, or run anything on your own computer other than a browser."
   ]
  },
  {
   "cell_type": "markdown",
   "metadata": {
    "_uuid": "fbedcae8843986c2139f18dad4b5f313e6535ac5"
   },
   "source": [
    "## 5-5 Loading Packages\n",
    "In this kernel we are using the following packages:"
   ]
  },
  {
   "cell_type": "markdown",
   "metadata": {
    "_uuid": "61f49281fdd8592b44c0867225f57e6fce36342c"
   },
   "source": [
    " <img src=\"http://s8.picofile.com/file/8338227868/packages.png\">\n",
    " Now we import all of them "
   ]
  },
  {
   "cell_type": "code",
   "execution_count": null,
   "metadata": {
    "_cell_guid": "b1076dfc-b9ad-4769-8c92-a6c4dae69d19",
    "_uuid": "8f2839f25d086af736a60e9eeb907d3b93b6e0e5"
   },
   "outputs": [],
   "source": [
    "# packages to load \n",
    "# Check the versions of libraries\n",
    "# Python version\n",
    "import warnings\n",
    "warnings.filterwarnings('ignore')\n",
    "import sys\n",
    "print('Python: {}'.format(sys.version))\n",
    "# scipy\n",
    "import scipy\n",
    "print('scipy: {}'.format(scipy.__version__))\n",
    "import numpy\n",
    "# matplotlib\n",
    "import matplotlib\n",
    "print('matplotlib: {}'.format(matplotlib.__version__))\n",
    "# numpy\n",
    "import numpy as np # linear algebra\n",
    "print('numpy: {}'.format(np.__version__))\n",
    "# pandas\n",
    "import pandas as pd # data processing, CSV file I/O (e.g. pd.read_csv)\n",
    "print('pandas: {}'.format(pd.__version__))\n",
    "import seaborn as sns\n",
    "print('seaborn: {}'.format(sns.__version__))\n",
    "sns.set(color_codes=True)\n",
    "import matplotlib.pyplot as plt\n",
    "print('matplotlib: {}'.format(matplotlib.__version__))\n",
    "%matplotlib inline\n",
    "# scikit-learn\n",
    "import sklearn\n",
    "print('sklearn: {}'.format(sklearn.__version__))\n",
    "# Input data files are available in the \"../input/\" directory.\n",
    "# For example, running this (by clicking run or pressing Shift+Enter) will list the files in the input directory\n",
    "import os\n",
    "%matplotlib inline\n",
    "from sklearn.metrics import accuracy_score\n",
    "# Importing metrics for evaluation\n",
    "from sklearn.metrics import confusion_matrix\n",
    "from sklearn.metrics import classification_report\n"
   ]
  },
  {
   "cell_type": "markdown",
   "metadata": {
    "_uuid": "04ff1a533119d589baee777c21194a951168b0c7"
   },
   "source": [
    "## 6- Exploratory Data Analysis(EDA)\n",
    " In this section, you'll learn how to use graphical and numerical techniques to begin uncovering the structure of your data. \n",
    " \n",
    "* Which variables suggest interesting relationships?\n",
    "* Which observations are unusual?\n",
    "\n",
    "By the end of the section, you'll be able to answer these questions and more, while generating graphics that are both insightful and beautiful.  then We will review analytical and statistical operations:\n",
    "\n",
    "*   5-1 Data Collection\n",
    "*   5-2 Visualization\n",
    "*   5-3 Data Preprocessing\n",
    "*   5-4 Data Cleaning\n",
    "<img src=\"http://s8.picofile.com/file/8338362918/EDA.png\">"
   ]
  },
  {
   "cell_type": "markdown",
   "metadata": {
    "_uuid": "cedecea930b278f86292367cc28d2996a235a169"
   },
   "source": [
    "## 6-1 Data Collection\n",
    "**Data collection** is the process of gathering and measuring data, information or any variables of interest in a standardized and established manner that enables the collector to answer or test hypothesis and evaluate outcomes of the particular collection.[techopedia]\n",
    "\n",
    "Iris data sets consists of 3 different types of irises’ (Setosa, Versicolour, and Virginica) petal and sepal length, stored in a 150x4 numpy.ndarray\n",
    "\n",
    "The rows being the samples and the columns being: Sepal Length, Sepal Width, Petal Length and Petal Width.[6]\n"
   ]
  },
  {
   "cell_type": "code",
   "execution_count": null,
   "metadata": {
    "_uuid": "9269ae851b744856bce56840637030a16a5877e1"
   },
   "outputs": [],
   "source": [
    "# import Dataset to play with it\n",
    "dataset = pd.read_csv('../input/Iris.csv')"
   ]
  },
  {
   "cell_type": "markdown",
   "metadata": {
    "_uuid": "58ed9c838069f54de5cf90b20a774c3e236149b3"
   },
   "source": [
    "**<< Note 1 >>**\n",
    "\n",
    "* Each row is an observation (also known as : sample, example, instance, record)\n",
    "* Each column is a feature (also known as: Predictor, attribute, Independent Variable, input, regressor, Covariate)"
   ]
  },
  {
   "cell_type": "markdown",
   "metadata": {
    "_uuid": "7b5fd1034cd591ebd29fba1c77d342ec2b408d13"
   },
   "source": [
    "After loading the data via **pandas**, we should checkout what the content is, description and via the following:"
   ]
  },
  {
   "cell_type": "code",
   "execution_count": null,
   "metadata": {
    "_uuid": "edd043f8feb76cfe51b79785302ca4936ceb7b51"
   },
   "outputs": [],
   "source": [
    "type(dataset)"
   ]
  },
  {
   "cell_type": "markdown",
   "metadata": {
    "_uuid": "581b90e6a869c3793472c7edd59091d6d6342fb2"
   },
   "source": [
    "## 6-1-1 Statistical Summary\n",
    "1- Dimensions of the dataset.\n",
    "\n",
    "2- Peek at the data itself.\n",
    "\n",
    "3- Statistical summary of all attributes.\n",
    "\n",
    "4- Breakdown of the data by the class variable.[7]\n",
    "\n",
    "Don’t worry, each look at the data is one command. These are useful commands that you can use again and again on future projects."
   ]
  },
  {
   "cell_type": "code",
   "execution_count": null,
   "metadata": {
    "_uuid": "4b45251be7be77333051fe738639104ae1005fa5"
   },
   "outputs": [],
   "source": [
    "# shape\n",
    "print(dataset.shape)"
   ]
  },
  {
   "cell_type": "code",
   "execution_count": null,
   "metadata": {
    "_uuid": "c64e9d3e0bf394fb833de94a0fc5c34f69fce24c"
   },
   "outputs": [],
   "source": [
    "#columns*rows\n",
    "dataset.size"
   ]
  },
  {
   "cell_type": "markdown",
   "metadata": {
    "_uuid": "277e1998627d6a3ddeff4e913a6b8c3dc81dec96"
   },
   "source": [
    "\n",
    "We can get a quick idea of how many instances (rows) and how many attributes (columns) the data contains with the shape property.\n",
    "\n",
    "You should see 150 instances and 5 attributes:"
   ]
  },
  {
   "cell_type": "code",
   "execution_count": null,
   "metadata": {
    "_uuid": "ca840f02925751186f87e402fcb5f637ab1ab8a0"
   },
   "outputs": [],
   "source": [
    "print(dataset.info())"
   ]
  },
  {
   "cell_type": "code",
   "execution_count": null,
   "metadata": {
    "_uuid": "4b90d165a007106ae99809ad28edd75bd8153dd8"
   },
   "outputs": [],
   "source": [
    "dataset['Species'].unique()"
   ]
  },
  {
   "cell_type": "code",
   "execution_count": null,
   "metadata": {
    "_uuid": "8accfbddf2228274ad412c3ad3be72b4107d6f6c"
   },
   "outputs": [],
   "source": [
    "dataset[\"Species\"].value_counts()\n"
   ]
  },
  {
   "cell_type": "markdown",
   "metadata": {
    "_uuid": "ae08b544a8d4202c7d0a47ec83d685e81c91a66d"
   },
   "source": [
    "to check the first 5 rows of the data set, we can use head(5)."
   ]
  },
  {
   "cell_type": "code",
   "execution_count": null,
   "metadata": {
    "_uuid": "5899889553c3416b27e93efceddb106eb71f5156"
   },
   "outputs": [],
   "source": [
    "dataset.head(5) "
   ]
  },
  {
   "cell_type": "markdown",
   "metadata": {
    "_uuid": "1150b6ac3d82562aefd5c64f9f01accee5eace4d"
   },
   "source": [
    "to check out last 5 row of the data set, we use tail() function"
   ]
  },
  {
   "cell_type": "code",
   "execution_count": null,
   "metadata": {
    "_uuid": "79339442ff1f53ae1054d794337b9541295d3305"
   },
   "outputs": [],
   "source": [
    "dataset.tail() "
   ]
  },
  {
   "cell_type": "markdown",
   "metadata": {
    "_uuid": "2c288c3dc8656a872a8529368812546e434d3a22"
   },
   "source": [
    "to pop up 5 random rows from the data set, we can use **sample(5)**  function"
   ]
  },
  {
   "cell_type": "code",
   "execution_count": null,
   "metadata": {
    "_uuid": "09eb18d1fcf4a2b73ba2f5ddce99dfa521681140"
   },
   "outputs": [],
   "source": [
    "dataset.sample(5) "
   ]
  },
  {
   "cell_type": "markdown",
   "metadata": {
    "_uuid": "c8a1cc36348c68fb98d6cb28aa9919fc5f2892f3"
   },
   "source": [
    "to give a statistical summary about the dataset, we can use **describe()"
   ]
  },
  {
   "cell_type": "code",
   "execution_count": null,
   "metadata": {
    "_uuid": "3f7211e96627b9a81c5b620a9ba61446f7719ea3"
   },
   "outputs": [],
   "source": [
    "dataset.describe() "
   ]
  },
  {
   "cell_type": "markdown",
   "metadata": {
    "_uuid": "031d16ca235837e889734635ecff193be64b27a4"
   },
   "source": [
    "to check out how many null info are on the dataset, we can use **isnull().sum()"
   ]
  },
  {
   "cell_type": "code",
   "execution_count": null,
   "metadata": {
    "_uuid": "8807b632269e2fa734ad26e8513199400fc09a83"
   },
   "outputs": [],
   "source": [
    "dataset.isnull().sum()"
   ]
  },
  {
   "cell_type": "code",
   "execution_count": null,
   "metadata": {
    "_uuid": "446e6162e16325213047ff31454813455668b574"
   },
   "outputs": [],
   "source": [
    "dataset.groupby('Species').count()"
   ]
  },
  {
   "cell_type": "markdown",
   "metadata": {
    "_uuid": "c2f1eaf0b6dfdc7cc4dace04614e99ed56425d00"
   },
   "source": [
    "to print dataset **columns**, we can use columns atribute"
   ]
  },
  {
   "cell_type": "code",
   "execution_count": null,
   "metadata": {
    "_uuid": "909d61b33ec06249d0842e6115597bbacf21163f"
   },
   "outputs": [],
   "source": [
    "dataset.columns"
   ]
  },
  {
   "cell_type": "markdown",
   "metadata": {
    "_uuid": "22bc5d81c18275ee1fb082c0adbb7a65bdbec4cc"
   },
   "source": [
    "**<< Note 2 >>**\n",
    "in pandas's data frame you can perform some query such as \"where\""
   ]
  },
  {
   "cell_type": "code",
   "execution_count": null,
   "metadata": {
    "_uuid": "c8c8d9fd63d9bdb601183aeb4f1435affeb8a596"
   },
   "outputs": [],
   "source": [
    "dataset.where(dataset ['Species']=='Iris-setosa')"
   ]
  },
  {
   "cell_type": "code",
   "execution_count": null,
   "metadata": {
    "_uuid": "8b545ff7e8367c5ab9c1db710f70b6936ac8422c"
   },
   "outputs": [],
   "source": [
    "dataset[dataset['SepalLengthCm']>7.2]"
   ]
  },
  {
   "cell_type": "markdown",
   "metadata": {
    "_uuid": "055772bd170aa8018aabd85106b76675802c33b3"
   },
   "source": [
    "## 6-2 Visualization\n",
    "**Data visualization**  is the presentation of data in a pictorial or graphical format. It enables decision makers to see analytics presented visually, so they can grasp difficult concepts or identify new patterns.\n",
    "\n",
    "With interactive visualization, you can take the concept a step further by using technology to drill down into charts and graphs for more detail, interactively changing what data you see and how it’s processed.[SAS]"
   ]
  },
  {
   "cell_type": "markdown",
   "metadata": {
    "_uuid": "b0014a7a52e714996bc443981c853095926d20e5"
   },
   "source": [
    "### 6-2-1 Scatter plot\n",
    "\n",
    "Scatter plot Purpose To identify the type of relationship (if any) between two quantitative variables\n",
    "\n",
    "\n"
   ]
  },
  {
   "cell_type": "code",
   "execution_count": null,
   "metadata": {
    "_uuid": "af099546eed64ebc796403d4139cb4c977c27b03"
   },
   "outputs": [],
   "source": [
    "# Modify the graph above by assigning each species an individual color.\n",
    "sns.FacetGrid(dataset, hue=\"Species\", size=5) \\\n",
    "   .map(plt.scatter, \"SepalLengthCm\", \"SepalWidthCm\") \\\n",
    "   .add_legend()\n",
    "plt.show()"
   ]
  },
  {
   "cell_type": "markdown",
   "metadata": {
    "_uuid": "d1c7b62b5f8cba427bca13049256365141655372"
   },
   "source": [
    "### 6-2-2 Box\n",
    "In descriptive statistics, a **box plot** or boxplot is a method for graphically depicting groups of numerical data through their quartiles. Box plots may also have lines extending vertically from the boxes (whiskers) indicating variability outside the upper and lower quartiles, hence the terms box-and-whisker plot and box-and-whisker diagram.[wikipedia]"
   ]
  },
  {
   "cell_type": "code",
   "execution_count": null,
   "metadata": {
    "_uuid": "0655e20f31a582f861d391308a088778cd7eaae9"
   },
   "outputs": [],
   "source": [
    "dataset.plot(kind='box', subplots=True, layout=(2,3), sharex=False, sharey=False)\n",
    "plt.figure()\n",
    "#This gives us a much clearer idea of the distribution of the input attributes:\n",
    "\n"
   ]
  },
  {
   "cell_type": "code",
   "execution_count": null,
   "metadata": {
    "_uuid": "f7f6426fd44bcd77d35a5fdbc8c4fc4f18d991ad"
   },
   "outputs": [],
   "source": [
    "# To plot the species data using a box plot:\n",
    "\n",
    "sns.boxplot(x=\"Species\", y=\"PetalLengthCm\", data=dataset )\n",
    "plt.show()"
   ]
  },
  {
   "cell_type": "code",
   "execution_count": null,
   "metadata": {
    "_uuid": "7b193e4aa7e6fb337d3f65c334849094addd097a"
   },
   "outputs": [],
   "source": [
    "# Use Seaborn's striplot to add data points on top of the box plot \n",
    "# Insert jitter=True so that the data points remain scattered and not piled into a verticle line.\n",
    "# Assign ax to each axis, so that each plot is ontop of the previous axis. \n",
    "\n",
    "ax= sns.boxplot(x=\"Species\", y=\"PetalLengthCm\", data=dataset)\n",
    "ax= sns.stripplot(x=\"Species\", y=\"PetalLengthCm\", data=dataset, jitter=True, edgecolor=\"gray\")\n",
    "plt.show()"
   ]
  },
  {
   "cell_type": "code",
   "execution_count": null,
   "metadata": {
    "_uuid": "56adbafa89c117118621c72b3b7cb19edc21298e"
   },
   "outputs": [],
   "source": [
    "# Tweek the plot above to change fill and border color color using ax.artists.\n",
    "# Assing ax.artists a variable name, and insert the box number into the corresponding brackets\n",
    "\n",
    "ax= sns.boxplot(x=\"Species\", y=\"PetalLengthCm\", data=dataset)\n",
    "ax= sns.stripplot(x=\"Species\", y=\"PetalLengthCm\", data=dataset, jitter=True, edgecolor=\"gray\")\n",
    "\n",
    "boxtwo = ax.artists[2]\n",
    "boxtwo.set_facecolor('red')\n",
    "boxtwo.set_edgecolor('black')\n",
    "boxthree=ax.artists[1]\n",
    "boxthree.set_facecolor('yellow')\n",
    "boxthree.set_edgecolor('black')\n",
    "\n",
    "plt.show()"
   ]
  },
  {
   "cell_type": "markdown",
   "metadata": {
    "_uuid": "743a92c3c2fff1a1f99845518247f7971ad18b7c"
   },
   "source": [
    "### 6-2-3 Histogram\n",
    "We can also create a **histogram** of each input variable to get an idea of the distribution.\n",
    "\n"
   ]
  },
  {
   "cell_type": "code",
   "execution_count": null,
   "metadata": {
    "_uuid": "5da0520ed3e738ee8814b2d91843ed4acec2b6e6"
   },
   "outputs": [],
   "source": [
    "# histograms\n",
    "dataset.hist(figsize=(15,20))\n",
    "plt.figure()"
   ]
  },
  {
   "cell_type": "markdown",
   "metadata": {
    "_uuid": "b4e3de19781686010c6038f0e3076eb678398169"
   },
   "source": [
    "It looks like perhaps two of the input variables have a Gaussian distribution. This is useful to note as we can use algorithms that can exploit this assumption.\n",
    "\n"
   ]
  },
  {
   "cell_type": "markdown",
   "metadata": {
    "_uuid": "3bbff56707484f88625eb8ef309b712ba03f939e"
   },
   "source": [
    "### 6-2-4 Multivariate Plots\n",
    "Now we can look at the interactions between the variables.\n",
    "\n",
    "First, let’s look at scatterplots of all pairs of attributes. This can be helpful to spot structured relationships between input variables."
   ]
  },
  {
   "cell_type": "code",
   "execution_count": null,
   "metadata": {
    "_uuid": "eb4e5d117e4ef40d7668632f42130206a5537bd0"
   },
   "outputs": [],
   "source": [
    "\n",
    "# scatter plot matrix\n",
    "pd.plotting.scatter_matrix(dataset,figsize=(10,10))\n",
    "plt.figure()"
   ]
  },
  {
   "cell_type": "markdown",
   "metadata": {
    "_uuid": "de7fea7986071fafbe0b93933e3beda445cbe373"
   },
   "source": [
    "Note the diagonal grouping of some pairs of attributes. This suggests a high correlation and a predictable relationship."
   ]
  },
  {
   "cell_type": "markdown",
   "metadata": {
    "_uuid": "e0f696ec021ec99c1058a62e22c8b73082fe6fa7"
   },
   "source": [
    "### 6-2-5 violinplots"
   ]
  },
  {
   "cell_type": "code",
   "execution_count": null,
   "metadata": {
    "_uuid": "e352d2f8340609adf4bf6718b1d2ecee0fa730b5"
   },
   "outputs": [],
   "source": [
    "# violinplots on petal-length for each species\n",
    "sns.violinplot(data=dataset,x=\"Species\", y=\"PetalLengthCm\")"
   ]
  },
  {
   "cell_type": "markdown",
   "metadata": {
    "_uuid": "0ed35bceb87051e56316d35a630334518e8b8c64"
   },
   "source": [
    "### 6-2-6 pairplot"
   ]
  },
  {
   "cell_type": "code",
   "execution_count": null,
   "metadata": {
    "_uuid": "b80350add6f9a742f10bffc4b497562f8bebea95"
   },
   "outputs": [],
   "source": [
    "# Using seaborn pairplot to see the bivariate relation between each pair of features\n",
    "sns.pairplot(dataset, hue=\"Species\")"
   ]
  },
  {
   "cell_type": "markdown",
   "metadata": {
    "_uuid": "fb187bcc0fb51e53f8abe9e3952c6ae5c3177411"
   },
   "source": [
    "From the plot, we can see that the species setosa is separataed from the other two across all feature combinations\n",
    "\n",
    "We can also replace the histograms shown in the diagonal of the pairplot by kde."
   ]
  },
  {
   "cell_type": "code",
   "execution_count": null,
   "metadata": {
    "_uuid": "5570ff32db5a4740b26b244531af552ac1b57f4a"
   },
   "outputs": [],
   "source": [
    "# updating the diagonal elements in a pairplot to show a kde\n",
    "sns.pairplot(dataset, hue=\"Species\",diag_kind=\"kde\")"
   ]
  },
  {
   "cell_type": "markdown",
   "metadata": {
    "_uuid": "2544d3c2dd34a360d295019d8cb597c7ef8f66bc"
   },
   "source": [
    "###  6-2-7 kdeplot"
   ]
  },
  {
   "cell_type": "code",
   "execution_count": null,
   "metadata": {
    "_uuid": "1d07222b89303b386e9e824d52cc73c045667f25"
   },
   "outputs": [],
   "source": [
    "# seaborn's kdeplot, plots univariate or bivariate density estimates.\n",
    "#Size can be changed by tweeking the value used\n",
    "sns.FacetGrid(dataset, hue=\"Species\", size=5).map(sns.kdeplot, \"PetalLengthCm\").add_legend()\n",
    "plt.show()"
   ]
  },
  {
   "cell_type": "markdown",
   "metadata": {
    "_uuid": "560d8e8f17bacefaf8c3855a9648f26b82fdee9b"
   },
   "source": [
    "### 6-2-8 jointplot"
   ]
  },
  {
   "cell_type": "code",
   "execution_count": null,
   "metadata": {
    "_uuid": "4adb4da16ea61e0f1a12bc9925dfbbaaa81e0360"
   },
   "outputs": [],
   "source": [
    "# Use seaborn's jointplot to make a hexagonal bin plot\n",
    "#Set desired size and ratio and choose a color.\n",
    "sns.jointplot(x=\"SepalLengthCm\", y=\"SepalWidthCm\", data=dataset, size=10,ratio=10, kind='hex',color='green')\n",
    "plt.show()"
   ]
  },
  {
   "cell_type": "markdown",
   "metadata": {
    "_uuid": "3768e31e990bfe4c2ff7b45087fbba85e0560d00"
   },
   "source": [
    "###  6-2-9 andrews_curves"
   ]
  },
  {
   "cell_type": "code",
   "execution_count": null,
   "metadata": {
    "_uuid": "937b6856d109001db14a3ac99568df45efbe1070"
   },
   "outputs": [],
   "source": [
    "#In Pandas use Andrews Curves to plot and visualize data structure.\n",
    "#Each multivariate observation is transformed into a curve and represents the coefficients of a Fourier series.\n",
    "#This useful for detecting outliers in times series data.\n",
    "#Use colormap to change the color of the curves\n",
    "\n",
    "from pandas.tools.plotting import andrews_curves\n",
    "andrews_curves(dataset.drop(\"Id\", axis=1), \"Species\",colormap='rainbow')\n",
    "plt.show()"
   ]
  },
  {
   "cell_type": "code",
   "execution_count": null,
   "metadata": {
    "_uuid": "263eaa9d2bfad0f8c68b6e8e874bdc11a6e802ac"
   },
   "outputs": [],
   "source": [
    "# we will use seaborn jointplot shows bivariate scatterplots and univariate histograms with Kernel density \n",
    "# estimation in the same figure\n",
    "sns.jointplot(x=\"SepalLengthCm\", y=\"SepalWidthCm\", data=dataset, size=6, kind='kde', color='#800000', space=0)"
   ]
  },
  {
   "cell_type": "markdown",
   "metadata": {
    "_uuid": "8e73333289d17dd648b7b2112d7fe3fe7ea444d0"
   },
   "source": [
    "### 6-2-10 Heatmap"
   ]
  },
  {
   "cell_type": "code",
   "execution_count": null,
   "metadata": {
    "_uuid": "3100955ca9dc61ac7d435e9c064d10d06f26afa7"
   },
   "outputs": [],
   "source": [
    "plt.figure(figsize=(7,4)) \n",
    "sns.heatmap(dataset.corr(),annot=True,cmap='cubehelix_r') #draws  heatmap with input as the correlation matrix calculted by(iris.corr())\n",
    "plt.show()"
   ]
  },
  {
   "cell_type": "markdown",
   "metadata": {
    "_uuid": "b81dbdd5dd8cb92a86b1f7114ffb6f088458a527"
   },
   "source": [
    "### 6-2-11 radviz"
   ]
  },
  {
   "cell_type": "code",
   "execution_count": null,
   "metadata": {
    "_uuid": "33fed3027d7242227d612a84bbb42b012356091b"
   },
   "outputs": [],
   "source": [
    "# A final multivariate visualization technique pandas has is radviz\n",
    "# Which puts each feature as a point on a 2D plane, and then simulates\n",
    "# having each sample attached to those points through a spring weighted\n",
    "# by the relative value for that feature\n",
    "from pandas.tools.plotting import radviz\n",
    "radviz(dataset.drop(\"Id\", axis=1), \"Species\")"
   ]
  },
  {
   "cell_type": "markdown",
   "metadata": {
    "_uuid": "5af51158a5bc342947c553392e3d1665ac24ba62"
   },
   "source": [
    "### 6-2-12 Conclusion\n",
    "we have used Python to apply data visualization tools to the Iris dataset. Color and size changes were made to the data points in scatterplots. I changed the border and fill color of the boxplot and violin, respectively."
   ]
  },
  {
   "cell_type": "markdown",
   "metadata": {
    "_uuid": "91dda1f631cf4ed362162501aaaac6d19cfd6cc7"
   },
   "source": [
    " ## 6-3 Data Preprocessing\n",
    "**Data preprocessing** refers to the transformations applied to our data before feeding it to the algorithm.\n",
    " \n",
    "Data Preprocessing is a technique that is used to convert the raw data into a clean data set. In other words, whenever the data is gathered from different sources it is collected in raw format which is not feasible for the analysis.\n",
    "there are plenty of steps for data preprocessing and we just listed some of them :\n",
    "* removing Target column (id)\n",
    "* Sampling (without replacement)\n",
    "* Making part of iris unbalanced and balancing (with undersampling and SMOTE)\n",
    "* Introducing missing values and treating them (replacing by average values)\n",
    "* Noise filtering\n",
    "* Data discretization\n",
    "* Normalization and standardization\n",
    "* PCA analysis\n",
    "* Feature selection (filter, embedded, wrapper)"
   ]
  },
  {
   "cell_type": "code",
   "execution_count": null,
   "metadata": {
    "_uuid": "1c92b300076a232321c915857d8a7c5685a97865"
   },
   "outputs": [],
   "source": [
    "# Seperating the data into dependent and independent variables\n",
    "X = dataset.iloc[:, :-1].values\n",
    "y = dataset.iloc[:, -1].values"
   ]
  },
  {
   "cell_type": "markdown",
   "metadata": {
    "_uuid": "8280749a19af32869978c61941d1dea306632d71"
   },
   "source": [
    "## 6-4 Data Cleaning\n",
    "When dealing with real-world data, dirty data is the norm rather than the exception. We continuously need to predict correct values, impute missing ones, and find links between various data artefacts such as schemas and records. We need to stop treating data cleaning as a piecemeal exercise (resolving different types of errors in isolation), and instead leverage all signals and resources (such as constraints, available statistics, and dictionaries) to accurately predict corrective actions.\n",
    "\n",
    "The primary goal of data cleaning is to detect and remove errors and anomalies to increase the value of data in analytics and decision making. While it has been the focus of many researchers for several years, individual problems have been addressed separately. These include missing value imputation, outliers detection, transformations, integrity constraints violations detection and repair, consistent query answering, deduplication, and many other related problems such as profiling and constraints mining.[8]"
   ]
  },
  {
   "cell_type": "markdown",
   "metadata": {
    "_uuid": "72cc7c7b60a33390a85b16bc34e3b9e424650cdd"
   },
   "source": [
    "## 7- Model Deployment\n",
    "In this section have been applied more than 20 learning algorithms that play an important rule in your experiences and improve your knowledge in case of ML technique.\n",
    "\n",
    "> **<< Note 3 >>** : The results shown here may be slightly different for your analysis because, for example, the neural network algorithms use random number generators for fixing the initial value of the weights (starting points) of the neural networks, which often result in obtaining slightly different (local minima) solutions each time you run the analysis. Also note that changing the seed for the random number generator used to create the train, test, and validation samples can change your results."
   ]
  },
  {
   "cell_type": "markdown",
   "metadata": {
    "_uuid": "daf9910caba26e071ff560dbdaca079ee148e140"
   },
   "source": [
    "## Prepare Features & Targets\n",
    "First of all seperating the data into dependent(Feature) and independent(Target) variables.\n",
    "* X==>>Feature\n",
    "* y==>>Target"
   ]
  },
  {
   "cell_type": "code",
   "execution_count": null,
   "metadata": {
    "_uuid": "b06cb1191a0f52a904c52a918d1f999536e79bda"
   },
   "outputs": [],
   "source": [
    "\n",
    "X = dataset.iloc[:, :-1].values\n",
    "y = dataset.iloc[:, -1].values\n",
    "\n",
    "# Splitting the dataset into the Training set and Test set\n",
    "from sklearn.cross_validation import train_test_split\n",
    "X_train, X_test, y_train, y_test = train_test_split(X, y, test_size = 0.2, random_state = 0)"
   ]
  },
  {
   "cell_type": "markdown",
   "metadata": {
    "_uuid": "d13f167dd92888d856c4ad2ff2895bf4855e361c"
   },
   "source": [
    "## Accuracy and precision\n",
    "* **precision** : \n",
    "\n",
    "In pattern recognition, information retrieval and binary classification, precision (also called positive predictive value) is the fraction of relevant instances among the retrieved instances, \n",
    "* **recall** : \n",
    "\n",
    "recall is the fraction of relevant instances that have been retrieved over the total amount of relevant instances. \n",
    "* **F-score** :\n",
    "\n",
    "the F1 score is a measure of a test's accuracy. It considers both the precision p and the recall r of the test to compute the score: p is the number of correct positive results divided by the number of all positive results returned by the classifier, and r is the number of correct positive results divided by the number of all relevant samples (all samples that should have been identified as positive). The F1 score is the harmonic average of the precision and recall, where an F1 score reaches its best value at 1 (perfect precision and recall) and worst at 0."
   ]
  },
  {
   "cell_type": "markdown",
   "metadata": {
    "_uuid": "b8b544762cc789bfeb8ebccd6765f77b9c7e1a0f"
   },
   "source": [
    "## 7-1 K-Nearest Neighbours\n",
    "In **Machine Learning**, the **k-nearest neighbors algorithm** (k-NN) is a non-parametric method used for classification and regression. In both cases, the input consists of the k closest training examples in the feature space. The output depends on whether k-NN is used for classification or regression:\n",
    "\n",
    "In k-NN classification, the output is a class membership. An object is classified by a majority vote of its neighbors, with the object being assigned to the class most common among its k nearest neighbors (k is a positive integer, typically small). If k = 1, then the object is simply assigned to the class of that single nearest neighbor.\n",
    "In k-NN regression, the output is the property value for the object. This value is the average of the values of its k nearest neighbors.\n",
    "k-NN is a type of instance-based learning, or lazy learning, where the function is only approximated locally and all computation is deferred until classification. The k-NN algorithm is among the simplest of all machine learning algorithms."
   ]
  },
  {
   "cell_type": "code",
   "execution_count": null,
   "metadata": {
    "_uuid": "eaa2caacfbc319932f79c75c549364089d1e649f"
   },
   "outputs": [],
   "source": [
    "# K-Nearest Neighbours\n",
    "from sklearn.neighbors import KNeighborsClassifier\n",
    "\n",
    "Model = KNeighborsClassifier(n_neighbors=8)\n",
    "Model.fit(X_train, y_train)\n",
    "\n",
    "y_pred = Model.predict(X_test)\n",
    "\n",
    "# Summary of the predictions made by the classifier\n",
    "print(classification_report(y_test, y_pred))\n",
    "print(confusion_matrix(y_test, y_pred))\n",
    "# Accuracy score\n",
    "\n",
    "print('accuracy is',accuracy_score(y_pred,y_test))"
   ]
  },
  {
   "cell_type": "markdown",
   "metadata": {
    "_uuid": "e01bbec9f80532e30c6cf26d5c3fffffb5ea01d4"
   },
   "source": [
    "##  7-2 Radius Neighbors Classifier\n",
    "Classifier implementing a **vote** among neighbors within a given **radius**"
   ]
  },
  {
   "cell_type": "code",
   "execution_count": null,
   "metadata": {
    "_uuid": "7728fdafa163e068668cea92cf8d79306b41d458"
   },
   "outputs": [],
   "source": [
    "from sklearn.neighbors import  RadiusNeighborsClassifier\n",
    "Model=RadiusNeighborsClassifier(radius=8.0)\n",
    "Model.fit(X_train,y_train)\n",
    "y_pred=Model.predict(X_test)\n",
    "#summary of the predictions made by the classifier\n",
    "print(classification_report(y_test,y_pred))\n",
    "print(confusion_matrix(y_test,y_pred))\n",
    "#Accouracy score\n",
    "print('accuracy is ', accuracy_score(y_test,y_pred))"
   ]
  },
  {
   "cell_type": "markdown",
   "metadata": {
    "_uuid": "e55a785373bf654e0d4b2a78693fab1c8a625acb"
   },
   "source": [
    "## 7-3 Logistic Regression\n",
    "Logistic regression is the appropriate regression analysis to conduct when the dependent variable is **dichotomous** (binary). Like all regression analyses, the logistic regression is a **predictive analysis**."
   ]
  },
  {
   "cell_type": "code",
   "execution_count": null,
   "metadata": {
    "_uuid": "55eb348cf69272192274cd0728a123796b459b55"
   },
   "outputs": [],
   "source": [
    "# LogisticRegression\n",
    "from sklearn.linear_model import LogisticRegression\n",
    "Model = LogisticRegression()\n",
    "Model.fit(X_train, y_train)\n",
    "\n",
    "y_pred = Model.predict(X_test)\n",
    "\n",
    "# Summary of the predictions made by the classifier\n",
    "print(classification_report(y_test, y_pred))\n",
    "print(confusion_matrix(y_test, y_pred))\n",
    "# Accuracy score\n",
    "print('accuracy is',accuracy_score(y_pred,y_test))"
   ]
  },
  {
   "cell_type": "markdown",
   "metadata": {
    "_uuid": "c0a1c2ccaa4f6e9c5e2e42c47a295ceef7abd3b9"
   },
   "source": [
    "##  7-4 Passive Aggressive Classifier"
   ]
  },
  {
   "cell_type": "code",
   "execution_count": null,
   "metadata": {
    "_uuid": "d509b2111a143660dd5cb1f02ea2779e38295b77"
   },
   "outputs": [],
   "source": [
    "from sklearn.linear_model import PassiveAggressiveClassifier\n",
    "Model = PassiveAggressiveClassifier()\n",
    "Model.fit(X_train, y_train)\n",
    "\n",
    "y_pred = Model.predict(X_test)\n",
    "\n",
    "# Summary of the predictions made by the classifier\n",
    "print(classification_report(y_test, y_pred))\n",
    "print(confusion_matrix(y_test, y_pred))\n",
    "# Accuracy score\n",
    "print('accuracy is',accuracy_score(y_pred,y_test))"
   ]
  },
  {
   "cell_type": "markdown",
   "metadata": {
    "_uuid": "52938b49082dac7b35dc627828838bf12924cc7f"
   },
   "source": [
    "## 7-5 Naive Bayes\n",
    "In machine learning, naive Bayes classifiers are a family of simple \"**probabilistic classifiers**\" based on applying Bayes' theorem with strong (naive) independence assumptions between the features."
   ]
  },
  {
   "cell_type": "code",
   "execution_count": null,
   "metadata": {
    "_uuid": "522d4a3fa874950d0850a5a9a4178ec763781ec3"
   },
   "outputs": [],
   "source": [
    "# Naive Bayes\n",
    "from sklearn.naive_bayes import GaussianNB\n",
    "Model = GaussianNB()\n",
    "Model.fit(X_train, y_train)\n",
    "\n",
    "y_pred = Model.predict(X_test)\n",
    "\n",
    "# Summary of the predictions made by the classifier\n",
    "print(classification_report(y_test, y_pred))\n",
    "print(confusion_matrix(y_test, y_pred))\n",
    "# Accuracy score\n",
    "print('accuracy is',accuracy_score(y_pred,y_test))"
   ]
  },
  {
   "cell_type": "markdown",
   "metadata": {
    "_uuid": "272c1db2587015ac12e9919d51eaa4f4b73cb408"
   },
   "source": [
    "##  7-6 MultinomialNB\n",
    "The multinomial Naive Bayes classifier is suitable for classification with **discrete features** (e.g., word counts for text classification). The multinomial distribution normally requires integer feature counts. However, in practice, fractional counts such as tf-idf may also work.\n",
    "\n"
   ]
  },
  {
   "cell_type": "code",
   "execution_count": null,
   "metadata": {
    "_uuid": "c370fd6ae6eee484a22cbf6c5323710222b05ffb"
   },
   "outputs": [],
   "source": [
    "# MultinomialNB\n",
    "from sklearn.naive_bayes import MultinomialNB\n",
    "Model = MultinomialNB()\n",
    "Model.fit(X_train, y_train)\n",
    "\n",
    "y_pred = Model.predict(X_test)\n",
    "\n",
    "# Summary of the predictions made by the classifier\n",
    "print(classification_report(y_test, y_pred))\n",
    "print(confusion_matrix(y_test, y_pred))\n",
    "# Accuracy score\n",
    "print('accuracy is',accuracy_score(y_pred,y_test))"
   ]
  },
  {
   "cell_type": "markdown",
   "metadata": {
    "_uuid": "e530d18ab308e36d575806583e534cc07fe61c61"
   },
   "source": [
    "##  7-7 BernoulliNB\n",
    "Like MultinomialNB, this classifier is suitable for **discrete data**. The difference is that while MultinomialNB works with occurrence counts, BernoulliNB is designed for binary/boolean features."
   ]
  },
  {
   "cell_type": "code",
   "execution_count": null,
   "metadata": {
    "_uuid": "e7051b5e9aa144b74e9913cb2a6668832e7f3e02"
   },
   "outputs": [],
   "source": [
    "# BernoulliNB\n",
    "from sklearn.naive_bayes import BernoulliNB\n",
    "Model = BernoulliNB()\n",
    "Model.fit(X_train, y_train)\n",
    "\n",
    "y_pred = Model.predict(X_test)\n",
    "\n",
    "# Summary of the predictions made by the classifier\n",
    "print(classification_report(y_test, y_pred))\n",
    "print(confusion_matrix(y_test, y_pred))\n",
    "# Accuracy score\n",
    "print('accuracy is',accuracy_score(y_pred,y_test))"
   ]
  },
  {
   "cell_type": "markdown",
   "metadata": {
    "_uuid": "386d2d0e4fc7f5dc2b9298226d8e2ecfb7150346"
   },
   "source": [
    "## 7-8 SVM\n",
    "\n",
    "The advantages of support vector machines are:\n",
    "* Effective in high dimensional spaces.\n",
    "* Still effective in cases where number of dimensions is greater than the number of samples. \n",
    "* Uses a subset of training points in the decision function (called support vectors), so it is also memory efficient.\n",
    "* Versatile: different Kernel functions can be specified for the decision function. Common kernels are provided, but it is also possible to specify custom kernels.\n",
    "\n",
    "The disadvantages of support vector machines include:\n",
    "\n",
    "* If the number of features is much greater than the number of samples, avoid over-fitting in choosing Kernel functions and regularization term is crucial.\n",
    "* SVMs do not directly provide probability estimates, these are calculated using an expensive five-fold cross-validation"
   ]
  },
  {
   "cell_type": "code",
   "execution_count": null,
   "metadata": {
    "_uuid": "a44a5a43945404c95863668c2ba099f6032357f8"
   },
   "outputs": [],
   "source": [
    "# Support Vector Machine\n",
    "from sklearn.svm import SVC\n",
    "\n",
    "Model = SVC()\n",
    "Model.fit(X_train, y_train)\n",
    "\n",
    "y_pred = Model.predict(X_test)\n",
    "\n",
    "# Summary of the predictions made by the classifier\n",
    "print(classification_report(y_test, y_pred))\n",
    "print(confusion_matrix(y_test, y_pred))\n",
    "# Accuracy score\n",
    "\n",
    "print('accuracy is',accuracy_score(y_pred,y_test))"
   ]
  },
  {
   "cell_type": "markdown",
   "metadata": {
    "_uuid": "b1d092cc03dcaa712f4fe4ec6867b292321377d5"
   },
   "source": [
    "## 7-9 Nu-Support Vector Classification\n",
    "\n",
    "> Similar to SVC but uses a parameter to control the number of support vectors."
   ]
  },
  {
   "cell_type": "code",
   "execution_count": null,
   "metadata": {
    "_uuid": "2fa7c9a5bef780adb400bd9ad83d030f83a8d2b3"
   },
   "outputs": [],
   "source": [
    "# Support Vector Machine's \n",
    "from sklearn.svm import NuSVC\n",
    "\n",
    "Model = NuSVC()\n",
    "Model.fit(X_train, y_train)\n",
    "\n",
    "y_pred = Model.predict(X_test)\n",
    "\n",
    "# Summary of the predictions made by the classifier\n",
    "print(classification_report(y_test, y_pred))\n",
    "print(confusion_matrix(y_test, y_pred))\n",
    "# Accuracy score\n",
    "\n",
    "print('accuracy is',accuracy_score(y_pred,y_test))"
   ]
  },
  {
   "cell_type": "markdown",
   "metadata": {
    "_uuid": "5d07a75e83251ddbf8cfdfd11c9faa2671ad87ff"
   },
   "source": [
    "## 7-10 Linear Support Vector Classification\n",
    "\n",
    "Similar to **SVC** with parameter kernel=’linear’, but implemented in terms of liblinear rather than libsvm, so it has more flexibility in the choice of penalties and loss functions and should scale better to large numbers of samples."
   ]
  },
  {
   "cell_type": "code",
   "execution_count": null,
   "metadata": {
    "_uuid": "7e7275f160f2e4e270200eaa01c13be5cb465142"
   },
   "outputs": [],
   "source": [
    "# Linear Support Vector Classification\n",
    "from sklearn.svm import LinearSVC\n",
    "\n",
    "Model = LinearSVC()\n",
    "Model.fit(X_train, y_train)\n",
    "\n",
    "y_pred = Model.predict(X_test)\n",
    "\n",
    "# Summary of the predictions made by the classifier\n",
    "print(classification_report(y_test, y_pred))\n",
    "print(confusion_matrix(y_test, y_pred))\n",
    "# Accuracy score\n",
    "\n",
    "print('accuracy is',accuracy_score(y_pred,y_test))"
   ]
  },
  {
   "cell_type": "markdown",
   "metadata": {
    "_uuid": "cec81c9e0c3bc6afba07811a321b5383a0f823f3"
   },
   "source": [
    "## 7-11 Decision Tree\n",
    "Decision Trees (DTs) are a non-parametric supervised learning method used for **classification** and **regression**. The goal is to create a model that predicts the value of a target variable by learning simple **decision rules** inferred from the data features."
   ]
  },
  {
   "cell_type": "code",
   "execution_count": null,
   "metadata": {
    "_uuid": "10e25ad67f7c25a8654637d4ba496b64121d67d0"
   },
   "outputs": [],
   "source": [
    "# Decision Tree's\n",
    "from sklearn.tree import DecisionTreeClassifier\n",
    "\n",
    "Model = DecisionTreeClassifier()\n",
    "\n",
    "Model.fit(X_train, y_train)\n",
    "\n",
    "y_pred = Model.predict(X_test)\n",
    "\n",
    "# Summary of the predictions made by the classifier\n",
    "print(classification_report(y_test, y_pred))\n",
    "print(confusion_matrix(y_test, y_pred))\n",
    "# Accuracy score\n",
    "print('accuracy is',accuracy_score(y_pred,y_test))"
   ]
  },
  {
   "cell_type": "markdown",
   "metadata": {
    "_uuid": "a7d897130fd705943764e924bbe468c99b7c036a"
   },
   "source": [
    "## 7-12 ExtraTreeClassifier\n",
    "An extremely randomized tree classifier.\n",
    "\n",
    "Extra-trees differ from classic decision trees in the way they are built. When looking for the best split to separate the samples of a node into two groups, random splits are drawn for each of the **max_features** randomly selected features and the best split among those is chosen. When max_features is set 1, this amounts to building a totally random decision tree.\n",
    "\n",
    "**Warning**: Extra-trees should only be used within ensemble methods."
   ]
  },
  {
   "cell_type": "code",
   "execution_count": null,
   "metadata": {
    "_uuid": "5a775006a814b6aacdcc07dc46995eb291b873f1"
   },
   "outputs": [],
   "source": [
    "# ExtraTreeClassifier\n",
    "from sklearn.tree import ExtraTreeClassifier\n",
    "\n",
    "Model = ExtraTreeClassifier()\n",
    "\n",
    "Model.fit(X_train, y_train)\n",
    "\n",
    "y_pred = Model.predict(X_test)\n",
    "\n",
    "# Summary of the predictions made by the classifier\n",
    "print(classification_report(y_test, y_pred))\n",
    "print(confusion_matrix(y_test, y_pred))\n",
    "# Accuracy score\n",
    "print('accuracy is',accuracy_score(y_pred,y_test))"
   ]
  },
  {
   "cell_type": "markdown",
   "metadata": {
    "_uuid": "48f940f73580a2997d75f22eba09d938c86a1a97"
   },
   "source": [
    "## 7-13 Neural network\n",
    "\n",
    "I have used multi-layer Perceptron classifier.\n",
    "This model optimizes the log-loss function using **LBFGS** or **stochastic gradient descent**."
   ]
  },
  {
   "cell_type": "code",
   "execution_count": null,
   "metadata": {
    "_uuid": "5f040cfaeb71f8caa94e4d7f18cccde8d2a0b8a7"
   },
   "outputs": [],
   "source": [
    "from sklearn.neural_network import MLPClassifier\n",
    "Model=MLPClassifier()\n",
    "Model.fit(X_train,y_train)\n",
    "y_pred=Model.predict(X_test)\n",
    "# Summary of the predictions\n",
    "print(classification_report(y_test,y_pred))\n",
    "print(confusion_matrix(y_test,y_pred))\n",
    "#Accuracy Score\n",
    "print('accuracy is ',accuracy_score(y_pred,y_test))"
   ]
  },
  {
   "cell_type": "markdown",
   "metadata": {
    "_uuid": "ffc339dbf9c8da74194b994930694bd97bb2afbb"
   },
   "source": [
    "## 7-14 RandomForest\n",
    "A random forest is a meta estimator that **fits a number of decision tree classifiers** on various sub-samples of the dataset and uses averaging to improve the predictive accuracy and control over-fitting. \n",
    "\n",
    "The sub-sample size is always the same as the original input sample size but the samples are drawn with replacement if bootstrap=True (default)."
   ]
  },
  {
   "cell_type": "code",
   "execution_count": null,
   "metadata": {
    "_uuid": "8ed2305b51c2248a8aa62cf4452632f448e83771"
   },
   "outputs": [],
   "source": [
    "from sklearn.ensemble import RandomForestClassifier\n",
    "Model=RandomForestClassifier(max_depth=2)\n",
    "Model.fit(X_train,y_train)\n",
    "y_pred=Model.predict(X_test)\n",
    "print(classification_report(y_test,y_pred))\n",
    "print(confusion_matrix(y_pred,y_test))\n",
    "#Accuracy Score\n",
    "print('accuracy is ',accuracy_score(y_pred,y_test))"
   ]
  },
  {
   "cell_type": "markdown",
   "metadata": {
    "_uuid": "1311eb15f2afceed2219faeb859d0d07b7072176"
   },
   "source": [
    "## 7-15 Bagging classifier \n",
    "A Bagging classifier is an ensemble **meta-estimator** that fits base classifiers each on random subsets of the original dataset and then aggregate their individual predictions (either by voting or by averaging) to form a final prediction. Such a meta-estimator can typically be used as a way to reduce the variance of a black-box estimator (e.g., a decision tree), by introducing randomization into its construction procedure and then making an ensemble out of it.\n",
    "\n",
    "This algorithm encompasses several works from the literature. When random subsets of the dataset are drawn as random subsets of the samples, then this algorithm is known as Pasting . If samples are drawn with replacement, then the method is known as Bagging . When random subsets of the dataset are drawn as random subsets of the features, then the method is known as Random Subspaces . Finally, when base estimators are built on subsets of both samples and features, then the method is known as Random Patches .[http://scikit-learn.org]"
   ]
  },
  {
   "cell_type": "code",
   "execution_count": null,
   "metadata": {
    "_uuid": "c11c731d3db6c1c81301da85dc158cb7d324c4cb"
   },
   "outputs": [],
   "source": [
    "from sklearn.ensemble import BaggingClassifier\n",
    "Model=BaggingClassifier()\n",
    "Model.fit(X_train,y_train)\n",
    "y_pred=Model.predict(X_test)\n",
    "print(classification_report(y_test,y_pred))\n",
    "print(confusion_matrix(y_pred,y_test))\n",
    "#Accuracy Score\n",
    "print('accuracy is ',accuracy_score(y_pred,y_test))"
   ]
  },
  {
   "cell_type": "markdown",
   "metadata": {
    "_uuid": "c0944bd32424f38906148d96f4b1e6fccfbf97a6"
   },
   "source": [
    "##  7-16 AdaBoost classifier\n",
    "\n",
    "An AdaBoost classifier is a meta-estimator that begins by fitting a classifier on the original dataset and then fits additional copies of the classifier on the same dataset but where the weights of incorrectly classified instances are adjusted such that subsequent classifiers focus more on difficult cases.\n",
    "This class implements the algorithm known as **AdaBoost-SAMME** ."
   ]
  },
  {
   "cell_type": "code",
   "execution_count": null,
   "metadata": {
    "_uuid": "938946ee8e017b982c4c06e193d4d13cb7d3fb5f"
   },
   "outputs": [],
   "source": [
    "from sklearn.ensemble import AdaBoostClassifier\n",
    "Model=AdaBoostClassifier()\n",
    "Model.fit(X_train,y_train)\n",
    "y_pred=Model.predict(X_test)\n",
    "print(classification_report(y_test,y_pred))\n",
    "print(confusion_matrix(y_pred,y_test))\n",
    "#Accuracy Score\n",
    "print('accuracy is ',accuracy_score(y_pred,y_test))"
   ]
  },
  {
   "cell_type": "markdown",
   "metadata": {
    "_uuid": "9d62842d12731d3eb1d6577c5b35c12c4886c708"
   },
   "source": [
    "## 7-17 Gradient Boosting Classifier\n",
    "GB builds an additive model in a forward stage-wise fashion; it allows for the optimization of arbitrary differentiable loss functions."
   ]
  },
  {
   "cell_type": "code",
   "execution_count": null,
   "metadata": {
    "_uuid": "863124561c0d1b5995d0b8d3702daa7bc364d6b0"
   },
   "outputs": [],
   "source": [
    "from sklearn.ensemble import GradientBoostingClassifier\n",
    "Model=GradientBoostingClassifier()\n",
    "Model.fit(X_train,y_train)\n",
    "y_pred=Model.predict(X_test)\n",
    "print(classification_report(y_test,y_pred))\n",
    "print(confusion_matrix(y_pred,y_test))\n",
    "#Accuracy Score\n",
    "print('accuracy is ',accuracy_score(y_pred,y_test))"
   ]
  },
  {
   "cell_type": "markdown",
   "metadata": {
    "_uuid": "e89b4494bd78c2d66beeba34a4e320fd8c9dae0c"
   },
   "source": [
    "## 7-18 Linear Discriminant Analysis\n",
    "Linear Discriminant Analysis (discriminant_analysis.LinearDiscriminantAnalysis) and Quadratic Discriminant Analysis (discriminant_analysis.QuadraticDiscriminantAnalysis) are two classic classifiers, with, as their names suggest, a **linear and a quadratic decision surface**, respectively.\n",
    "\n",
    "These classifiers are attractive because they have closed-form solutions that can be easily computed, are inherently multiclass, have proven to work well in practice, and have no **hyperparameters** to tune."
   ]
  },
  {
   "cell_type": "code",
   "execution_count": null,
   "metadata": {
    "_uuid": "0796cd9f1c902345df605b7557a9c3ff686e35a9"
   },
   "outputs": [],
   "source": [
    "from sklearn.discriminant_analysis import LinearDiscriminantAnalysis\n",
    "Model=LinearDiscriminantAnalysis()\n",
    "Model.fit(X_train,y_train)\n",
    "y_pred=Model.predict(X_test)\n",
    "print(classification_report(y_test,y_pred))\n",
    "print(confusion_matrix(y_pred,y_test))\n",
    "#Accuracy Score\n",
    "print('accuracy is ',accuracy_score(y_pred,y_test))"
   ]
  },
  {
   "cell_type": "markdown",
   "metadata": {
    "_uuid": "296137970fc94fa4a4eb4185cb5fa952b1985c57"
   },
   "source": [
    "## 7-19 Quadratic Discriminant Analysis\n",
    "A classifier with a quadratic decision boundary, generated by fitting class conditional densities to the data and using Bayes’ rule.\n",
    "\n",
    "The model fits a **Gaussian** density to each class."
   ]
  },
  {
   "cell_type": "code",
   "execution_count": null,
   "metadata": {
    "_uuid": "5f521d19f295b8e8f24f5715e93b1c45e9a6bce3"
   },
   "outputs": [],
   "source": [
    "from sklearn.discriminant_analysis import QuadraticDiscriminantAnalysis\n",
    "Model=QuadraticDiscriminantAnalysis()\n",
    "Model.fit(X_train,y_train)\n",
    "y_pred=Model.predict(X_test)\n",
    "print(classification_report(y_test,y_pred))\n",
    "print(confusion_matrix(y_pred,y_test))\n",
    "#Accuracy Score\n",
    "print('accuracy is ',accuracy_score(y_pred,y_test))"
   ]
  },
  {
   "cell_type": "markdown",
   "metadata": {
    "_uuid": "0518634bf8850ac1bfcfc301e93a8740e1995c3a"
   },
   "source": [
    "## 7-20 Kmeans \n",
    "K-means clustering is a type of unsupervised learning, which is used when you have unlabeled data (i.e., data without defined categories or groups). \n",
    "\n",
    "The goal of this algorithm is **to find groups in the data**, with the number of groups represented by the variable K. The algorithm works iteratively to assign each data point to one of K groups based on the features that are provided.\n",
    "\n"
   ]
  },
  {
   "cell_type": "code",
   "execution_count": null,
   "metadata": {
    "_uuid": "427f08af02fc7288a5e35de5ff4b6c33b8fce491"
   },
   "outputs": [],
   "source": [
    "from sklearn.cluster import KMeans\n",
    "iris_SP = dataset[['SepalLengthCm','SepalWidthCm','PetalLengthCm','PetalWidthCm']]\n",
    "# k-means cluster analysis for 1-15 clusters                                              \n",
    "from scipy.spatial.distance import cdist\n",
    "clusters=range(1,15)\n",
    "meandist=[]\n",
    "\n",
    "# loop through each cluster and fit the model to the train set\n",
    "# generate the predicted cluster assingment and append the mean \n",
    "# distance my taking the sum divided by the shape\n",
    "for k in clusters:\n",
    "    model=KMeans(n_clusters=k)\n",
    "    model.fit(iris_SP)\n",
    "    clusassign=model.predict(iris_SP)\n",
    "    meandist.append(sum(np.min(cdist(iris_SP, model.cluster_centers_, 'euclidean'), axis=1))\n",
    "    / iris_SP.shape[0])\n",
    "\n",
    "\"\"\"\n",
    "Plot average distance from observations from the cluster centroid\n",
    "to use the Elbow Method to identify number of clusters to choose\n",
    "\"\"\"\n",
    "plt.plot(clusters, meandist)\n",
    "plt.xlabel('Number of clusters')\n",
    "plt.ylabel('Average distance')\n",
    "plt.title('Selecting k with the Elbow Method') \n",
    "# pick the fewest number of clusters that reduces the average distance\n",
    "# If you observe after 3 we can see graph is almost linear"
   ]
  },
  {
   "cell_type": "markdown",
   "metadata": {
    "_uuid": "97adc471c068fbd8d36ca19a4db0d98b0924c731"
   },
   "source": [
    "## 8- Conclusion"
   ]
  },
  {
   "cell_type": "markdown",
   "metadata": {
    "_uuid": "1adfb5ba84e0f1d8fba58a2fca30546ead095047",
    "collapsed": true
   },
   "source": [
    "In this kernel, I have tried to cover all the parts related to the process of ML with a variety of Python packages and I know that there are still some problems then I hope to get your feedback to improve it.\n"
   ]
  },
  {
   "cell_type": "markdown",
   "metadata": {
    "_uuid": "cf3679a51c72dbe2d2549b5fe97e4ac5f1fa0fa0"
   },
   "source": [
    "Please **UpVote** and **Follow Me ** \n",
    "###### [ GitHub](https://github.com/mjbahmani)\n",
    "###### [LinkedIn](https://www.linkedin.com/in/bahmani/)\n",
    "###### [Kaggle](https://www.kaggle.com/mjbahmani/)"
   ]
  },
  {
   "cell_type": "markdown",
   "metadata": {
    "_cell_guid": "79c7e3d0-c299-4dcb-8224-4455121ee9b0",
    "_uuid": "d629ff2d2480ee46fbb7e2d37f6b5fab8052498a",
    "collapsed": true
   },
   "source": [
    "# 9- References\n",
    "* [1] [Iris image](https://rpubs.com/wjholst/322258)\n",
    "* [2] [IRIS](https://archive.ics.uci.edu/ml/datasets/iris)\n",
    "* [3] [https://skymind.ai/wiki/machine-learning-workflow](https://skymind.ai/wiki/machine-learning-workflow)\n",
    "* [4] [IRIS-wiki](https://archive.ics.uci.edu/ml/datasets/iris)\n",
    "* [5] [Problem-define](https://machinelearningmastery.com/machine-learning-in-python-step-by-step/)\n",
    "* [6] [Sklearn](http://scikit-learn.org/)\n",
    "* [7] [machine-learning-in-python-step-by-step](https://machinelearningmastery.com/machine-learning-in-python-step-by-step/)\n",
    "* [8] [Data Cleaning](http://wp.sigmod.org/?p=2288)\n",
    "\n"
   ]
  },
  {
   "cell_type": "code",
   "execution_count": null,
   "metadata": {
    "_uuid": "46e09b5d28a9970e5277084a9ca1d19b331df0f6"
   },
   "outputs": [],
   "source": []
  }
 ],
 "metadata": {
  "kernelspec": {
   "display_name": "Python 3",
   "language": "python",
   "name": "python3"
  },
  "language_info": {
   "codemirror_mode": {
    "name": "ipython",
    "version": 3
   },
   "file_extension": ".py",
   "mimetype": "text/x-python",
   "name": "python",
   "nbconvert_exporter": "python",
   "pygments_lexer": "ipython3",
   "version": "3.6.4"
  }
 },
 "nbformat": 4,
 "nbformat_minor": 1
}
